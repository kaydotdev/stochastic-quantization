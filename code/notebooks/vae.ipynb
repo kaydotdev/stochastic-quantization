{
 "cells": [
  {
   "cell_type": "markdown",
   "id": "17943251-9d9d-499e-9723-8dc076dfd056",
   "metadata": {},
   "source": [
    "# Training a variational autoencoder (VAE) neural network with stochastic quantization model\n",
    "\n",
    "Importing all required third-party dependencies"
   ]
  },
  {
   "cell_type": "code",
   "execution_count": null,
   "id": "d864cf7556ae38c8",
   "metadata": {
    "ExecuteTime": {
     "end_time": "2024-07-24T18:31:01.629481Z",
     "start_time": "2024-07-24T18:30:48.767192Z"
    }
   },
   "outputs": [],
   "source": [
    "import os\n",
    "import itertools\n",
    "import numpy as np\n",
    "\n",
    "import torch\n",
    "import torch.nn as nn\n",
    "import torch.nn.functional as F\n",
    "import torch.optim as optim\n",
    "\n",
    "import matplotlib as mpl\n",
    "import matplotlib.pyplot as plt\n",
    "\n",
    "from torch.utils.data import DataLoader\n",
    "from torchvision import datasets, transforms\n",
    "from tqdm import tqdm\n",
    "\n",
    "from sklearn.decomposition import PCA\n",
    "from sklearn.metrics import ConfusionMatrixDisplay, f1_score\n",
    "\n",
    "import sq.optim as sq_optim\n",
    "import sq.quantization as sq"
   ]
  },
  {
   "cell_type": "markdown",
   "id": "1229094b36482c2b",
   "metadata": {},
   "source": [
    "Choosing a different algorithm for convolutions computations"
   ]
  },
  {
   "cell_type": "code",
   "execution_count": null,
   "id": "f2cf278b8913ecec",
   "metadata": {
    "ExecuteTime": {
     "end_time": "2024-07-23T08:33:56.927078Z",
     "start_time": "2024-07-23T08:33:56.924461Z"
    }
   },
   "outputs": [],
   "source": [
    "torch.backends.cudnn.benchmark = True\n",
    "torch.backends.cudnn.deterministic = True"
   ]
  },
  {
   "cell_type": "markdown",
   "id": "57b3b2b057d7078d",
   "metadata": {},
   "source": [
    "To enforce reproducibility we set the random seed manually"
   ]
  },
  {
   "cell_type": "code",
   "execution_count": null,
   "id": "ab3814636d14d433",
   "metadata": {
    "ExecuteTime": {
     "end_time": "2024-07-23T08:33:56.998482Z",
     "start_time": "2024-07-23T08:33:56.927874Z"
    }
   },
   "outputs": [],
   "source": [
    "RANDOM_SEED = 42\n",
    "\n",
    "np.random.seed(RANDOM_SEED)\n",
    "torch.manual_seed(RANDOM_SEED)\n",
    "\n",
    "print(f\"Used random seed: {torch.initial_seed()}\")"
   ]
  },
  {
   "cell_type": "markdown",
   "id": "aa4ecc7ad851c84f",
   "metadata": {},
   "source": [
    "We set up the computation device for performing optimization"
   ]
  },
  {
   "cell_type": "code",
   "execution_count": null,
   "id": "d023148bd9d85aa3",
   "metadata": {
    "ExecuteTime": {
     "end_time": "2024-07-23T08:33:57.074973Z",
     "start_time": "2024-07-23T08:33:57.000495Z"
    }
   },
   "outputs": [],
   "source": [
    "device = torch.device('cuda' if torch.cuda.is_available() else 'cpu')\n",
    "device_name = torch.cuda.get_device_name(0) if torch.cuda.is_available() else \"CPU\""
   ]
  },
  {
   "cell_type": "markdown",
   "id": "463d3e1140ff47d6",
   "metadata": {},
   "source": [
    "We will use MNIST dataset of handwritten digits"
   ]
  },
  {
   "cell_type": "code",
   "execution_count": null,
   "id": "6e9feea535875a72",
   "metadata": {
    "ExecuteTime": {
     "end_time": "2024-07-23T08:33:57.220804Z",
     "start_time": "2024-07-23T08:33:57.076408Z"
    }
   },
   "outputs": [],
   "source": [
    "EPOCHS = 25\n",
    "\n",
    "BATCH_TRAIN = 512\n",
    "BATCH_TEST = 512\n",
    "DATA_DIR = '../../data/'\n",
    "RESULTS_DIR = '../../results/'\n",
    "\n",
    "train_dataset = datasets.MNIST(\n",
    "    root=DATA_DIR, train=True, download=True,\n",
    "    transform=transforms.Compose([transforms.ToTensor()])\n",
    ")\n",
    "\n",
    "test_dataset = datasets.MNIST(\n",
    "    root=DATA_DIR, train=False, download=True,\n",
    "    transform=transforms.Compose([transforms.ToTensor()])\n",
    ")\n",
    "\n",
    "train_dataloader = DataLoader(train_dataset, batch_size=BATCH_TRAIN, shuffle=True)\n",
    "test_dataloader = DataLoader(test_dataset, batch_size=BATCH_TEST, shuffle=True)"
   ]
  },
  {
   "cell_type": "markdown",
   "id": "2fda4252a6926721",
   "metadata": {},
   "source": [
    "These are examples of handwritten digits from the dataset"
   ]
  },
  {
   "cell_type": "code",
   "execution_count": null,
   "id": "614c79a0c8d5ec97",
   "metadata": {
    "ExecuteTime": {
     "end_time": "2024-07-23T08:33:57.570813Z",
     "start_time": "2024-07-23T08:33:57.221708Z"
    }
   },
   "outputs": [],
   "source": [
    "# Selecting random samples for the visual showcase\n",
    "row_elements = 5\n",
    "\n",
    "fig, axes = plt.subplots(2, row_elements, figsize=(12, 4))\n",
    "\n",
    "# Display the samples in the image grid\n",
    "for i, (image, label) in enumerate(\n",
    "  itertools.islice(train_dataset, 2 * row_elements)\n",
    "):\n",
    "    row = i // row_elements\n",
    "    col = i % row_elements\n",
    "\n",
    "    axes[row, col].imshow(image.squeeze(), cmap=\"gray\")\n",
    "    axes[row, col].set_title(f\"Element for a class '{label}'\")\n",
    "    axes[row, col].axis(\"off\")\n",
    "\n",
    "# Adjust the spacing between subplots\n",
    "plt.tight_layout()\n",
    "\n",
    "# Show the plot\n",
    "plt.show()"
   ]
  },
  {
   "cell_type": "markdown",
   "id": "32c704739ecfb6ff",
   "metadata": {},
   "source": [
    "A blueprint for a convolutional variational autoencoder neural network"
   ]
  },
  {
   "cell_type": "code",
   "execution_count": null,
   "id": "98bb89ac245d6d56",
   "metadata": {
    "ExecuteTime": {
     "end_time": "2024-07-23T08:33:57.576620Z",
     "start_time": "2024-07-23T08:33:57.571849Z"
    }
   },
   "outputs": [],
   "source": [
    "class ConvVAE(nn.Module):\n",
    "    def __init__(self, latent_dim=16):\n",
    "        super(ConvVAE, self).__init__()\n",
    "\n",
    "        # Encoder\n",
    "        self.encoder = nn.Sequential(\n",
    "            nn.Conv2d(1, 32, kernel_size=3, stride=2, padding=1),\n",
    "            nn.ELU(),\n",
    "            nn.Conv2d(32, 64, kernel_size=3, stride=2, padding=1),\n",
    "            nn.ELU(),\n",
    "\n",
    "            nn.Flatten(),\n",
    "\n",
    "            nn.Linear(64 * 7 * 7, 1000),\n",
    "            nn.ELU(),\n",
    "        )\n",
    "\n",
    "        self.fc_mu = nn.Linear(1000, latent_dim)\n",
    "        self.fc_logvar = nn.Linear(1000, latent_dim)\n",
    "\n",
    "        # Decoder\n",
    "        self.decoder_input = nn.Linear(latent_dim, 1000)\n",
    "\n",
    "        self.decoder = nn.Sequential(\n",
    "            nn.Linear(1000, 64 * 7 * 7),\n",
    "            nn.ELU(),\n",
    "\n",
    "            nn.Unflatten(1, (64, 7, 7)),\n",
    "\n",
    "            nn.ConvTranspose2d(64, 32, kernel_size=3, stride=2, padding=1, output_padding=1),\n",
    "            nn.ELU(),\n",
    "            nn.ConvTranspose2d(32, 1, kernel_size=3, stride=2, padding=1, output_padding=1),\n",
    "            nn.ELU(),\n",
    "        )\n",
    "\n",
    "    def encode(self, x):\n",
    "        x = self.encoder(x)\n",
    "        mu = self.fc_mu(x)\n",
    "        logvar = self.fc_logvar(x)\n",
    "        return mu, logvar\n",
    "\n",
    "    def reparameterize(self, mu, logvar):\n",
    "        std = torch.exp(0.5 * logvar)\n",
    "        eps = torch.randn_like(std)\n",
    "        return mu + eps * std\n",
    "\n",
    "    def decode(self, z):\n",
    "        z = self.decoder_input(z)\n",
    "        return self.decoder(z)\n",
    "\n",
    "    def forward(self, x):\n",
    "        mu, logvar = self.encode(x)\n",
    "        z = self.reparameterize(mu, logvar)\n",
    "        return self.decode(z), mu, logvar"
   ]
  },
  {
   "cell_type": "markdown",
   "id": "5140052181c40291",
   "metadata": {},
   "source": [
    "Output dimensions of the decoder network should match the input tensor, to ensure the compatibility of input and output dimensions we will display these tensors on the grid. For untrained network, decoder output is a random noise."
   ]
  },
  {
   "cell_type": "code",
   "execution_count": null,
   "id": "1c399313e6b3cde6",
   "metadata": {
    "ExecuteTime": {
     "end_time": "2024-07-23T08:33:58.221393Z",
     "start_time": "2024-07-23T08:33:57.577521Z"
    }
   },
   "outputs": [],
   "source": [
    "def vae_loss_function(recon_x, x, mu, logvar, beta=1.0):\n",
    "    BCE = F.mse_loss(recon_x, x, reduction='sum')\n",
    "    KLD = -0.5 * torch.sum(1 + logvar - mu.pow(2) - logvar.exp())\n",
    "\n",
    "    return BCE + beta * KLD\n",
    "\n",
    "\n",
    "LATENT_DIM = 16\n",
    "\n",
    "autoenc_model = ConvVAE(latent_dim=LATENT_DIM).to(device)\n",
    "optimizer = optim.Adam(autoenc_model.parameters(), lr=1e-3, weight_decay=1e-05)\n",
    "\n",
    "images, labels = next(iter(test_dataloader))\n",
    "fig, axes = plt.subplots(2, row_elements, figsize=(12, 4))\n",
    "\n",
    "with torch.no_grad():\n",
    "    output, _, _ = autoenc_model(images.to(device))\n",
    "\n",
    "    for i, image in enumerate(itertools.islice(output, 2 * row_elements)):\n",
    "        row = i // row_elements\n",
    "        col = i % row_elements\n",
    "    \n",
    "        axes[row, col].imshow(image.cpu().detach().numpy().squeeze(), cmap=\"gray\")\n",
    "        axes[row, col].set_title(f\"Decoded image {i}\")\n",
    "        axes[row, col].axis(\"off\")\n",
    "\n",
    "plt.tight_layout()\n",
    "plt.show()"
   ]
  },
  {
   "cell_type": "markdown",
   "id": "a469d7fc2b0bd9bc",
   "metadata": {},
   "source": [
    "Training an instantiated Convolutional Autoencoder"
   ]
  },
  {
   "cell_type": "code",
   "execution_count": null,
   "id": "d076572791044f2e",
   "metadata": {
    "ExecuteTime": {
     "end_time": "2024-07-23T08:35:46.440486Z",
     "start_time": "2024-07-23T08:33:58.222432Z"
    }
   },
   "outputs": [],
   "source": [
    "train_loss, val_loss = [], []\n",
    "\n",
    "\n",
    "for epoch in range(EPOCHS):\n",
    "    epoch_train_loss = []\n",
    "    epoch_val_loss = []\n",
    "\n",
    "    # Training loss and accuracy\n",
    "    autoenc_model.train()\n",
    "\n",
    "    for images, _ in (progress_bar := tqdm(train_dataloader)):\n",
    "        images = images.to(device)\n",
    "\n",
    "        # Forward pass\n",
    "        optimizer.zero_grad()\n",
    "\n",
    "        outputs, mu, logvar = autoenc_model(images)\n",
    "        loss = vae_loss_function(outputs, images, mu, logvar, beta=1.0)\n",
    "\n",
    "        # Backpropagation\n",
    "        loss.backward()\n",
    "\n",
    "        # Update weights\n",
    "        optimizer.step()\n",
    "\n",
    "        epoch_train_loss.append(loss.item())\n",
    "        progress_bar.set_description(f\"Train loss: {loss.item():.2f}\")\n",
    "\n",
    "    train_loss.append(np.mean(np.array(epoch_train_loss)))\n",
    "\n",
    "    # Validation loss and accuracy\n",
    "    autoenc_model.eval()\n",
    "\n",
    "    with torch.no_grad():\n",
    "        for images, _ in test_dataloader:\n",
    "            images = images.to(device)\n",
    "\n",
    "            outputs, mu, logvar = autoenc_model(images)\n",
    "            loss = vae_loss_function(outputs, images, mu, logvar)\n",
    "\n",
    "            epoch_val_loss.append(loss.item())\n",
    "\n",
    "    val_loss.append(np.mean(np.array(epoch_val_loss)))\n",
    "\n",
    "    print(f\"Validation loss: {loss.item():.2f}\")"
   ]
  },
  {
   "cell_type": "markdown",
   "id": "d7327c5e1e04915c",
   "metadata": {},
   "source": [
    "We compare train and validation losses to detect the overfitting of the model"
   ]
  },
  {
   "cell_type": "code",
   "execution_count": null,
   "id": "da15916cace981da",
   "metadata": {
    "ExecuteTime": {
     "end_time": "2024-07-23T08:35:46.544447Z",
     "start_time": "2024-07-23T08:35:46.442219Z"
    }
   },
   "outputs": [],
   "source": [
    "fig, ax = plt.subplots(1, 1, figsize=(6, 6), tight_layout=True)\n",
    "\n",
    "ax.plot(range(len(train_loss)), train_loss, linestyle='-',\n",
    "           marker='o', color='k', markersize=4, label=\"Train loss\")\n",
    "ax.plot(range(len(val_loss)), val_loss, linestyle='--',\n",
    "           marker='s', color='k', markersize=4, label=\"Validation loss\")\n",
    "\n",
    "ax.set_title(\"Train and validation loss with each epoch\")\n",
    "ax.set_xlabel(\"Epoch\")\n",
    "ax.set_ylabel(\"Loss\")\n",
    "ax.legend(loc=\"upper center\")\n",
    "\n",
    "ax.spines['top'].set_visible(False)\n",
    "ax.spines['right'].set_visible(False)\n",
    "\n",
    "fig.patch.set_facecolor('white')\n",
    "\n",
    "plt.tight_layout()\n",
    "plt.show()"
   ]
  },
  {
   "cell_type": "markdown",
   "id": "94600a8c47f1b737",
   "metadata": {},
   "source": [
    "The decoder network outputs resemble an input data, which means encoder-decoder pair formed a bijective mapping from a discrete handwritten digit set, into a metric latent space"
   ]
  },
  {
   "cell_type": "code",
   "execution_count": null,
   "id": "45e5ffda446d0886",
   "metadata": {
    "ExecuteTime": {
     "end_time": "2024-07-23T08:35:46.829877Z",
     "start_time": "2024-07-23T08:35:46.545347Z"
    }
   },
   "outputs": [],
   "source": [
    "autoenc_model.eval()\n",
    "\n",
    "row_elements = 5\n",
    "fig, axes = plt.subplots(2, row_elements, figsize=(12, 4))\n",
    "\n",
    "with torch.no_grad():\n",
    "    for i, (image, label) in enumerate(\n",
    "        itertools.islice(train_dataset, row_elements)\n",
    "    ):\n",
    "        axes[0, i].imshow(image.squeeze(), cmap=\"gray\")\n",
    "        axes[0, i].set_title(f\"Original image\")\n",
    "        axes[0, i].axis(\"off\")\n",
    "\n",
    "        inp_image = image.reshape((1, 1, 28, 28)).to(device)\n",
    "\n",
    "        output, _, _ = autoenc_model(inp_image)\n",
    "        reconst_image = output.reshape((1, 28, 28)).cpu()\n",
    "\n",
    "        axes[1, i].imshow(reconst_image.squeeze(), cmap=\"gray\")\n",
    "        axes[1, i].set_title(f\"Reconstruct\")\n",
    "        axes[1, i].axis(\"off\")\n",
    "\n",
    "plt.tight_layout()\n",
    "plt.show()"
   ]
  },
  {
   "cell_type": "markdown",
   "id": "c58fdea49a9897d7",
   "metadata": {},
   "source": [
    "We convert all handwritten digits from the dataset to visualize their embeddings in the metric space"
   ]
  },
  {
   "cell_type": "code",
   "execution_count": null,
   "id": "2019e30564ae4440",
   "metadata": {
    "ExecuteTime": {
     "end_time": "2024-07-23T08:35:50.971321Z",
     "start_time": "2024-07-23T08:35:46.830773Z"
    }
   },
   "outputs": [],
   "source": [
    "def group_embeddings_by_label(model: nn.Module, dataloader: DataLoader):\n",
    "    all_embeddings = np.empty((0, LATENT_DIM))\n",
    "    grouped_embeddings = {i: np.empty((0, LATENT_DIM)) for i in range(10)}\n",
    "\n",
    "    for img, lbs in dataloader:\n",
    "        model_device = next(model.parameters()).device\n",
    "        batch_mu, _ = model.encode(img.to(model_device))\n",
    "        batch_embeddings = batch_mu.cpu().detach().numpy()\n",
    "\n",
    "        lbs = lbs.detach().numpy()\n",
    "\n",
    "        for emb, lb in zip(batch_embeddings, lbs):\n",
    "            grouped_embeddings[lb] = np.vstack((grouped_embeddings[lb], np.array(emb)))\n",
    "\n",
    "    for cl, embeds in grouped_embeddings.items():\n",
    "        all_embeddings = np.vstack((all_embeddings, np.array(embeds)))\n",
    "\n",
    "    return grouped_embeddings, all_embeddings\n",
    "\n",
    "\n",
    "with torch.no_grad():\n",
    "    train_group_embeds, train_all_embeds = group_embeddings_by_label(autoenc_model, train_dataloader)\n",
    "    test_group_embeds, test_all_embeds = group_embeddings_by_label(autoenc_model, test_dataloader)"
   ]
  },
  {
   "cell_type": "markdown",
   "id": "9bea18c960c01b32",
   "metadata": {},
   "source": [
    "If our latent space has a dimensionality greater than 3, we use PCA to project embeddings on a 3D plane, while trying to preserve an original distribution as much as possible with 90% of variance. As train data embeddings are positioned similarly to the test embeddings, we can assume that encoder learned low-level representations"
   ]
  },
  {
   "cell_type": "code",
   "execution_count": null,
   "id": "3d256e31faf44423",
   "metadata": {
    "ExecuteTime": {
     "end_time": "2024-07-23T08:35:51.444152Z",
     "start_time": "2024-07-23T08:35:50.972149Z"
    }
   },
   "outputs": [],
   "source": [
    "_, embeds_dim = train_all_embeds.shape\n",
    "\n",
    "if embeds_dim > 3:\n",
    "    pca = PCA(n_components=3, random_state=RANDOM_SEED).fit(train_all_embeds)\n",
    "\n",
    "    train_viz_embeds = {cl: pca.transform(embeds) for cl, embeds in train_group_embeds.items()}\n",
    "    test_viz_embeds = {cl: pca.transform(embeds) for cl, embeds in test_group_embeds.items()}\n",
    "else:\n",
    "    train_viz_embeds = train_group_embeds\n",
    "    test_viz_embeds = test_group_embeds\n",
    "\n",
    "markers = ['o', '^', 's', 'p', '*', 'x', 'D', 'v', 'h', '+']\n",
    "markers_color = mpl.colormaps['gray'].resampled(len(markers))\n",
    "markers_color_range = np.linspace(0.2, 0.8, len(markers))\n",
    "\n",
    "markevery, marksize = 50, 10\n",
    "elev, azim = -7, -67\n",
    "\n",
    "fig = plt.figure(figsize=(12, 6))\n",
    "\n",
    "ax = fig.add_subplot(1, 2, 1, projection='3d')\n",
    "ax.view_init(elev=elev, azim=azim, roll=0)\n",
    "\n",
    "for idx, (cls, embeds) in enumerate(train_viz_embeds.items()):\n",
    "    subset_embeds = embeds[::markevery]\n",
    "    cls_color = markers_color(markers_color_range[idx])\n",
    "\n",
    "    ax.scatter3D(subset_embeds[:, 0], subset_embeds[:, 1], subset_embeds[:, 2], color=cls_color,\n",
    "                 label=cls, alpha=1.0, s=marksize, marker=markers[idx % len(markers)])\n",
    "\n",
    "ax.legend(loc=\"upper center\", ncol=5)\n",
    "ax.set_title(r'Train dataset embeddings with $ \\frac{1}{50} $ density')\n",
    "\n",
    "ax.set_xlabel('X-axis')\n",
    "ax.set_xlim((-10.0, 10.0))\n",
    "\n",
    "ax.set_ylabel('Y-axis')\n",
    "ax.set_ylim((-10.0, 10.0))\n",
    "\n",
    "ax.set_zlabel('Z-axis')\n",
    "ax.set_zlim((-10.0, 10.0))\n",
    "\n",
    "ax = fig.add_subplot(1, 2, 2, projection='3d')\n",
    "ax.view_init(elev=elev, azim=azim, roll=0)\n",
    "\n",
    "for idx, (cls, embeds) in enumerate(test_viz_embeds.items()):\n",
    "    subset_embeds = embeds[::markevery]\n",
    "    cls_color = markers_color(markers_color_range[idx])\n",
    "\n",
    "    ax.scatter3D(subset_embeds[:, 0], subset_embeds[:, 1], subset_embeds[:, 2], color=cls_color,\n",
    "                 label=cls, alpha=1.0, s=marksize, marker=markers[idx % len(markers)])\n",
    "\n",
    "ax.legend(loc=\"upper center\", ncol=5)\n",
    "ax.set_title(r'Test dataset embeddings with $ \\frac{1}{50} $ density')\n",
    "\n",
    "ax.set_xlabel('X-axis')\n",
    "ax.set_xlim((-10.0, 10.0))\n",
    "\n",
    "ax.set_ylabel('Y-axis')\n",
    "ax.set_ylim((-10.0, 10.0))\n",
    "\n",
    "ax.set_zlabel('Z-axis')\n",
    "ax.set_zlim((-10.0, 10.0))\n",
    "\n",
    "fig.patch.set_facecolor('white')\n",
    "\n",
    "plt.show()"
   ]
  },
  {
   "cell_type": "markdown",
   "id": "cd1b81274f48793a",
   "metadata": {},
   "source": [
    "An autoencoder model is usually applied in the context of unsupervised learning to create low level representations of unlabeled data, then an algorithm of unsupervised classification performs a grouping of these representations in some metric space. We will use stochastic quantization algorithm for the non-convex optimization problem of representations clustering"
   ]
  },
  {
   "cell_type": "code",
   "execution_count": null,
   "id": "ab6963f80a5e0312",
   "metadata": {
    "ExecuteTime": {
     "end_time": "2024-07-23T08:36:31.142632Z",
     "start_time": "2024-07-23T08:35:51.445161Z"
    }
   },
   "outputs": [],
   "source": [
    "SQ_ITERS = 5\n",
    "\n",
    "sq_algorithms = {\n",
    "    \"SGD\": sq.StochasticQuantization(sq_optim.SGDOptimizer(), n_clusters=10, max_iter=SQ_ITERS,\n",
    "                                     random_state=np.random.RandomState(RANDOM_SEED)),\n",
    "    \"Momentum\": sq.StochasticQuantization(sq_optim.MomentumOptimizer(), n_clusters=10, max_iter=SQ_ITERS,\n",
    "                                          learning_rate=0.0001, random_state=np.random.RandomState(RANDOM_SEED)),\n",
    "    \"NAG\": sq.StochasticQuantization(sq_optim.NAGOptimizer(), n_clusters=10, max_iter=SQ_ITERS,\n",
    "                                     learning_rate=0.0001, random_state=np.random.RandomState(RANDOM_SEED)),\n",
    "    \"Adagrad\": sq.StochasticQuantization(sq_optim.AdagradOptimizer(), n_clusters=10, max_iter=SQ_ITERS,\n",
    "                                         learning_rate=0.5, random_state=np.random.RandomState(RANDOM_SEED)),\n",
    "    \"RMSProp\": sq.StochasticQuantization(sq_optim.RMSPropOptimizer(), n_clusters=10, max_iter=SQ_ITERS,\n",
    "                                         random_state=np.random.RandomState(RANDOM_SEED)),\n",
    "    \"Adam\": sq.StochasticQuantization(sq_optim.AdamOptimizer(), n_clusters=10, max_iter=SQ_ITERS,\n",
    "                                      learning_rate=0.01, random_state=np.random.RandomState(RANDOM_SEED))\n",
    "}\n",
    "\n",
    "markers = [('o', '-'), ('s', '--'), ('^', ':'), ('d', '-.'), ('p', (0, (5, 5))), ('h', (0, (1, 1)))]\n",
    "fig, ax = plt.subplots(1, 1, figsize=(12, 6))\n",
    "\n",
    "for idx, (name, alg) in enumerate(sq_algorithms.items()):\n",
    "    marker, linestyle = markers[idx % len(markers)]\n",
    "\n",
    "    alg = alg.fit(train_all_embeds)\n",
    "\n",
    "    ax.plot(range(len(alg.loss_history_)), alg.loss_history_,\n",
    "            linestyle=linestyle, marker=marker, color='k',\n",
    "            markersize=4, label=name)\n",
    "\n",
    "ax.spines['top'].set_visible(False)\n",
    "ax.spines['right'].set_visible(False)\n",
    "\n",
    "plt.title(\"Convergence rate of each quantization algorithm\")\n",
    "plt.xlabel('Iteration number')\n",
    "plt.ylabel('Objective function loss')\n",
    "plt.legend(loc=\"upper center\", ncol=2)\n",
    "plt.show()"
   ]
  },
  {
   "cell_type": "markdown",
   "id": "8e44bc999989c1a1",
   "metadata": {},
   "source": [
    "We use confusion matrix to compare the accuracy of classification model for each class"
   ]
  },
  {
   "cell_type": "code",
   "execution_count": null,
   "id": "a0597d00cf5ac61e",
   "metadata": {
    "ExecuteTime": {
     "end_time": "2024-07-23T08:36:32.125423Z",
     "start_time": "2024-07-23T08:36:31.143403Z"
    }
   },
   "outputs": [],
   "source": [
    "n_col, n_row = (2, 3)\n",
    "fig, ax = plt.subplots(n_col, n_row, figsize=(12, 8))\n",
    "f1_scores = {}\n",
    "\n",
    "for idx, (name, alg) in enumerate(sq_algorithms.items()):\n",
    "    y_true, y_pred = np.array([]), np.array([])\n",
    "\n",
    "    for _, embs in test_group_embeds.items():\n",
    "        cls = alg.predict(embs)\n",
    "        cls_predicted = np.bincount(cls).argmax()\n",
    "\n",
    "        y_true = np.append(y_true, np.full((1, len(embs)), cls_predicted))\n",
    "        y_pred = np.append(y_pred, cls)\n",
    "\n",
    "    ax_idx = ax[idx // n_row, idx % n_row]\n",
    "\n",
    "    disp = ConfusionMatrixDisplay.from_predictions(\n",
    "        y_true, y_pred, cmap=\"Greys\", colorbar=False, ax=ax_idx\n",
    "    )\n",
    "\n",
    "    ax_idx.set_title(f\"Confusion matrix of a DEC with {name}\")\n",
    "    f1_scores[name] = f1_score(y_true, y_pred, average=\"weighted\")\n",
    "\n",
    "plt.tight_layout()\n",
    "plt.show()"
   ]
  },
  {
   "cell_type": "markdown",
   "id": "2284ec40-bc33-409b-9859-030fc5ba5d90",
   "metadata": {},
   "source": [
    "To account for label imbalance in the test set, we choose a weighted F1 score as an accuracy metric."
   ]
  },
  {
   "cell_type": "code",
   "execution_count": null,
   "id": "27ecec73959b90e3",
   "metadata": {
    "ExecuteTime": {
     "end_time": "2024-07-23T08:36:32.221024Z",
     "start_time": "2024-07-23T08:36:32.126308Z"
    }
   },
   "outputs": [],
   "source": [
    "fig, ax = plt.subplots(1, 1, figsize=(12, 6))\n",
    "\n",
    "bars = ax.bar(f1_scores.keys(), f1_scores.values(), color='k')\n",
    "\n",
    "for bar in bars:\n",
    "    height = bar.get_height()\n",
    "    ax.text(bar.get_x() + bar.get_width() / 2.0,\n",
    "            height, f'{round(height, 4)}', ha='center', va='bottom')\n",
    "\n",
    "ax.set_xlabel(\"Algorithm\")\n",
    "ax.set_ylabel(\"F1 score\")\n",
    "ax.set_title(\"Comparing accuracy of each stochastic quantization modification\")\n",
    "ax.set_ylim(top=1.1)\n",
    "\n",
    "ax.spines['top'].set_visible(False)\n",
    "ax.spines['right'].set_visible(False)\n",
    "\n",
    "plt.tight_layout()\n",
    "plt.show()"
   ]
  },
  {
   "cell_type": "markdown",
   "id": "d1fedf4c27d3f6d1",
   "metadata": {},
   "source": [
    "Save encoder model for the later use"
   ]
  },
  {
   "cell_type": "code",
   "execution_count": null,
   "id": "2ec5d326eb5bdf6a",
   "metadata": {
    "ExecuteTime": {
     "end_time": "2024-07-23T08:36:32.244841Z",
     "start_time": "2024-07-23T08:36:32.221878Z"
    }
   },
   "outputs": [],
   "source": [
    "MODEL_DIR = os.path.join(RESULTS_DIR, \"model\")\n",
    "\n",
    "if not os.path.exists(MODEL_DIR):\n",
    "    os.makedirs(MODEL_DIR)\n",
    "\n",
    "autoenc_model.eval()\n",
    "\n",
    "torch.save(autoenc_model.state_dict(), os.path.join(MODEL_DIR, \"vae.bin\"))"
   ]
  }
 ],
 "metadata": {
  "kernelspec": {
   "display_name": "Python 3 (ipykernel)",
   "language": "python",
   "name": "python3"
  },
  "language_info": {
   "codemirror_mode": {
    "name": "ipython",
    "version": 3
   },
   "file_extension": ".py",
   "mimetype": "text/x-python",
   "name": "python",
   "nbconvert_exporter": "python",
   "pygments_lexer": "ipython3",
   "version": "3.11.5"
  }
 },
 "nbformat": 4,
 "nbformat_minor": 5
}
